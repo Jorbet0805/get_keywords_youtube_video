{
 "cells": [
  {
   "cell_type": "markdown",
   "metadata": {},
   "source": [
    "## 1. Install the necessary libraries:"
   ]
  },
  {
   "cell_type": "code",
   "execution_count": 68,
   "metadata": {},
   "outputs": [],
   "source": [
    "#!pip install pyaudio pytube SpeechRecognition nltk pydub ffmpeg-python"
   ]
  },
  {
   "cell_type": "markdown",
   "metadata": {},
   "source": [
    "## 2. Import the required libraries in your Python script:"
   ]
  },
  {
   "cell_type": "code",
   "execution_count": 69,
   "metadata": {},
   "outputs": [
    {
     "name": "stderr",
     "output_type": "stream",
     "text": [
      "[nltk_data] Downloading package stopwords to\n",
      "[nltk_data]     C:\\Users\\Usuario\\AppData\\Roaming\\nltk_data...\n",
      "[nltk_data]   Package stopwords is already up-to-date!\n"
     ]
    },
    {
     "data": {
      "text/plain": [
       "True"
      ]
     },
     "execution_count": 69,
     "metadata": {},
     "output_type": "execute_result"
    }
   ],
   "source": [
    "import pytube\n",
    "from pydub import AudioSegment\n",
    "from pydub.silence import split_on_silence \n",
    "import speech_recognition as sr\n",
    "from nltk.tokenize import sent_tokenize\n",
    "from nltk.corpus import stopwords\n",
    "from nltk.probability import FreqDist\n",
    "from nltk.tokenize import word_tokenize\n",
    "import nltk\n",
    "import time\n",
    "import os\n",
    "\n",
    "nltk.download('stopwords')"
   ]
  },
  {
   "cell_type": "markdown",
   "metadata": {},
   "source": [
    "## 3. Create a function to retrieve the YouTube video's audio:"
   ]
  },
  {
   "cell_type": "code",
   "execution_count": 70,
   "metadata": {},
   "outputs": [],
   "source": [
    "def get_audio(video_url,output_path='.',src='audio.mp4'):\n",
    "    youtube = pytube.YouTube(video_url,use_oauth=True,allow_oauth_cache=True )\n",
    "    audio = youtube.streams.get_audio_only()\n",
    "    audio.download(output_path=output_path, filename=src)"
   ]
  },
  {
   "cell_type": "code",
   "execution_count": 71,
   "metadata": {},
   "outputs": [],
   "source": [
    "#get_audio('https://www.youtube.com/watch?v=yWMKYID5fr8')"
   ]
  },
  {
   "cell_type": "markdown",
   "metadata": {},
   "source": [
    "## 4. Convert_audio_format "
   ]
  },
  {
   "cell_type": "code",
   "execution_count": 72,
   "metadata": {},
   "outputs": [],
   "source": [
    "def format_audio(src='audio.mp4',dst='audio.wav', Input_format='mp4', output_format=\"wav\"):\n",
    "    audio = AudioSegment.from_file(src,format=Input_format)\n",
    "    audio.export(dst, format=output_format)"
   ]
  },
  {
   "cell_type": "code",
   "execution_count": 73,
   "metadata": {},
   "outputs": [],
   "source": [
    "get_audio('https://www.youtube.com/watch?v=wZvVNGxoGq4')\n",
    "format_audio()"
   ]
  },
  {
   "cell_type": "markdown",
   "metadata": {},
   "source": [
    "## 5. Create a function to convert the audio to text:"
   ]
  },
  {
   "cell_type": "code",
   "execution_count": 74,
   "metadata": {},
   "outputs": [
    {
     "data": {
      "text/plain": [
       "'\\nr = sr.Recognizer()\\nsource = \\'audio.wav\\'\\naudio_text = \\'\\'\\n#audio = r.record(source, \\n                 #duration=4\\n#                 )\\naudio = AudioSegment.from_wav(source) \\nchunks = split_on_silence(audio, \\n                          # must be silent for at least 0.5 seconds \\n                          # or 500 ms. adjust this value based on user \\n                          # requirement. if the speaker stays silent for \\n                          # longer, increase this value. else, decrease it. \\n                          min_silence_len = 5000, \\n                          # consider it silent if quieter than -16 dBFS \\n                          # adjust this per requirement \\n                          silence_thresh = -16\\n                          )\\ni = 0\\nfor chunk in chunks:\\n    i += 1\\n    wait_time = 0\\n    time.sleep(wait_time)\\n    \\n    # specify the bitrate to be 192 k \\n    chunk.export(\"./audio_chunk.wav\", bitrate =\\'192k\\', format =\"wav\") \\n    #chunk.export(f\"./audio_chunk{i}.wav\", bitrate =\\'192k\\', format =\"wav\")  \\n    \\n    # the name of the newly created chunk \\n    filename = \\'audio_chunk\\'+\\'.wav\\' \\n    with sr.AudioFile(filename) as source:\\n         #r.adjust_for_ambient_noise(source) \\n         #audio_listened = r.listen(source) \\n         audio_listened = r.record(source)\\n    try: \\n        actual_text = r.recognize_google(audio_listened, language=\\'en-US\\')\\n        audio_text += actual_text\\n    except:\\n       audio_text += \\' Error \\' \\n'"
      ]
     },
     "execution_count": 74,
     "metadata": {},
     "output_type": "execute_result"
    }
   ],
   "source": [
    "\"\"\"\n",
    "r = sr.Recognizer()\n",
    "source = 'audio.wav'\n",
    "audio_text = ''\n",
    "#audio = r.record(source, \n",
    "                 #duration=4\n",
    "#                 )\n",
    "audio = AudioSegment.from_wav(source) \n",
    "chunks = split_on_silence(audio, \n",
    "                          # must be silent for at least 0.5 seconds \n",
    "                          # or 500 ms. adjust this value based on user \n",
    "                          # requirement. if the speaker stays silent for \n",
    "                          # longer, increase this value. else, decrease it. \n",
    "                          min_silence_len = 5000, \n",
    "                          # consider it silent if quieter than -16 dBFS \n",
    "                          # adjust this per requirement \n",
    "                          silence_thresh = -16\n",
    "                          )\n",
    "i = 0\n",
    "for chunk in chunks:\n",
    "    i += 1\n",
    "    wait_time = 0\n",
    "    time.sleep(wait_time)\n",
    "    \n",
    "    # specify the bitrate to be 192 k \n",
    "    chunk.export(\"./audio_chunk.wav\", bitrate ='192k', format =\"wav\") \n",
    "    #chunk.export(f\"./audio_chunk{i}.wav\", bitrate ='192k', format =\"wav\")  \n",
    "    \n",
    "    # the name of the newly created chunk \n",
    "    filename = 'audio_chunk'+'.wav' \n",
    "    with sr.AudioFile(filename) as source:\n",
    "         #r.adjust_for_ambient_noise(source) \n",
    "         #audio_listened = r.listen(source) \n",
    "         audio_listened = r.record(source)\n",
    "    try: \n",
    "        actual_text = r.recognize_google(audio_listened, language='en-US')\n",
    "        audio_text += actual_text\n",
    "    except:\n",
    "       audio_text += ' Error ' \n",
    "\"\"\""
   ]
  },
  {
   "cell_type": "code",
   "execution_count": 75,
   "metadata": {},
   "outputs": [],
   "source": [
    "def convert_audio_to_text(source='audio.wav',chunk_duration=5000):\n",
    "\n",
    "    r = sr.Recognizer()\n",
    "    audio_text = ''\n",
    "    #audio = r.record(source, \n",
    "                 #duration=4\n",
    "    #                 )\n",
    "    audio = AudioSegment.from_wav(source) \n",
    "    chunk_duration = chunk_duration\n",
    "\n",
    "    start = 0\n",
    "    end = chunk_duration\n",
    "    i = 0\n",
    "    for _ in range( int( len(audio)/chunk_duration ) ):\n",
    "        chunk = audio[start:end]\n",
    "        chunk.export(\"./audio_chunk.wav\", format =\"wav\") \n",
    "        #chunk.export(\"./audio_chunk.wav\", bitrate ='192k', format =\"wav\") \n",
    "        start += chunk_duration\n",
    "        end += chunk_duration\n",
    "        i += 1\n",
    "\n",
    "        #chunk.export(f\"./audio_chunk{i}.wav\", bitrate ='192k', format =\"wav\")  \n",
    "    \n",
    "        # the name of the newly created chunk \n",
    "        temporal_filename = './audio_chunk'+'.wav' \n",
    "        with sr.AudioFile(temporal_filename) as source:\n",
    "             #r.adjust_for_ambient_noise(source) \n",
    "             #audio_listened = r.listen(source) \n",
    "             audio_listened = r.record(source)\n",
    "\n",
    "        try: \n",
    "            actual_text = r.recognize_google(audio_listened, language='en-US')\n",
    "            audio_text += actual_text + ' '\n",
    "        except:\n",
    "           audio_text += 'Error' \n",
    "\n",
    "    os.remove(temporal_filename)\n",
    "\n",
    "    return audio_text"
   ]
  },
  {
   "cell_type": "markdown",
   "metadata": {},
   "source": [
    "## 6. Create a function to generate a summary of the text:"
   ]
  },
  {
   "cell_type": "code",
   "execution_count": 76,
   "metadata": {},
   "outputs": [],
   "source": [
    "def generate_summary(text,n_top=5):\n",
    "    sentences = sent_tokenize(text)\n",
    "    stopwords_list = set(stopwords.words(\"english\"))\n",
    "    words = word_tokenize(text)\n",
    "    words_cleaned = [word.lower() for word in words if word.isalnum() and word.lower() not in stopwords_list]\n",
    "    fdist = FreqDist(words_cleaned)\n",
    "    summary = fdist.most_common(n_top)  # Generate a summary of the top 5 most frequent words\n",
    "    return summary"
   ]
  },
  {
   "cell_type": "markdown",
   "metadata": {},
   "source": [
    "## 7. Create the graphical interface using Tkinter:"
   ]
  },
  {
   "cell_type": "code",
   "execution_count": 77,
   "metadata": {},
   "outputs": [],
   "source": [
    "import tkinter as tk\n",
    "\n",
    "def generate_summary_button_clicked():\n",
    "    try:\n",
    "        ouput_label.config(text='Procesando')\n",
    "        video_url = video_url_entry.get()\n",
    "        get_audio(video_url)\n",
    "        format_audio()\n",
    "        audio_text = convert_audio_to_text()\n",
    "        summary = generate_summary(audio_text)\n",
    "        # Display the summary in a text box or any other appropriate way\n",
    "        ouput_label.config(text=summary)\n",
    "        # Schedule the next update after 1 second (1000 milliseconds)\n",
    "        #window.after(1000, update_label)\n",
    "        #print(summary)\n",
    "    except Exception as e:\n",
    "        #print(e.message, e.args)\n",
    "        ouput_label.config(text=e)\n",
    "\n",
    "# Create the main window\n",
    "window = tk.Tk()\n",
    "window.title(\"YouTube Video Keywords Generator\")\n",
    "\n",
    "# Create the video URL label and entry field\n",
    "video_url_label = tk.Label(window, text=\"Video URL:\")\n",
    "video_url_label.pack()\n",
    "video_url_entry = tk.Entry(window)\n",
    "video_url_entry.pack()\n",
    "# Create a label with the text to display\n",
    "ouput_label = tk.Label(window, text=\"Ouput\")\n",
    "ouput_label.pack()\n",
    "\n",
    "# Create the Generate Summary button\n",
    "generate_summary_button = tk.Button(window, text=\"Get keywords\", command=generate_summary_button_clicked)\n",
    "generate_summary_button.pack()\n",
    "\n",
    "# Start the main loop\n",
    "window.mainloop()"
   ]
  },
  {
   "cell_type": "code",
   "execution_count": null,
   "metadata": {},
   "outputs": [],
   "source": []
  }
 ],
 "metadata": {
  "kernelspec": {
   "display_name": "Python 3 (ipykernel)",
   "language": "python",
   "name": "python3"
  },
  "language_info": {
   "codemirror_mode": {
    "name": "ipython",
    "version": 3
   },
   "file_extension": ".py",
   "mimetype": "text/x-python",
   "name": "python",
   "nbconvert_exporter": "python",
   "pygments_lexer": "ipython3",
   "version": "3.11.5"
  }
 },
 "nbformat": 4,
 "nbformat_minor": 4
}
